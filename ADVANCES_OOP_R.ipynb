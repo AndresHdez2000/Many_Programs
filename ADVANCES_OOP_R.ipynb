{
 "cells": [
  {
   "cell_type": "code",
   "execution_count": 1,
   "metadata": {},
   "outputs": [
    {
     "data": {
      "text/html": [
       "<ol class=list-inline>\n",
       "\t<li>1</li>\n",
       "\t<li>2</li>\n",
       "\t<li>3</li>\n",
       "</ol>\n"
      ],
      "text/latex": [
       "\\begin{enumerate*}\n",
       "\\item 1\n",
       "\\item 2\n",
       "\\item 3\n",
       "\\end{enumerate*}\n"
      ],
      "text/markdown": [
       "1. 1\n",
       "2. 2\n",
       "3. 3\n",
       "\n",
       "\n"
      ],
      "text/plain": [
       "[1] 1 2 3"
      ]
     },
     "metadata": {},
     "output_type": "display_data"
    },
    {
     "name": "stdout",
     "output_type": "stream",
     "text": [
      "[1] \"numeric\"     \"Flamboyancy\"\n"
     ]
    }
   ],
   "source": [
    "bubba <- c(1,2,3)\n",
    "bubba\n",
    "\n",
    "class(bubba)  <- append(class(bubba),\"Flamboyancy\")\n",
    "print (class(bubba))\n",
    "\n"
   ]
  },
  {
   "cell_type": "code",
   "execution_count": 7,
   "metadata": {},
   "outputs": [],
   "source": [
    "NordAmericain <- function(eatsBreakfast=TRUE,myFavorite=\"cereal\")\n",
    "{\n",
    "\n",
    "      ## Get the environment for this\n",
    "      ## instance of the function.\n",
    "      thisEnv <- environment()\n",
    "\n",
    "      hasBreakfast <- eatsBreakfast\n",
    "      favoriteBreakfast <- myFavorite\n",
    "\n",
    "      ## Create the list used to represent an\n",
    "      ## object for this class\n",
    "      me <- list(\n",
    "\n",
    "              ## Define the environment where this list is defined so\n",
    "              ## that I can refer to it later.\n",
    "              thisEnv = thisEnv,\n",
    "\n",
    "              ## Define the accessors for the data fields.\n",
    "              getEnv = function()\n",
    "              {\n",
    "                      return(get(\"thisEnv\",thisEnv))\n",
    "              },\n",
    "\n",
    "              getHasBreakfast = function()\n",
    "              {\n",
    "                      return(get(\"hasBreakfast\",thisEnv))\n",
    "              },\n",
    "\n",
    "              setHasBreakfast = function(value)\n",
    "              {\n",
    "                      return(assign(\"hasBreakfast\",value,thisEnv))\n",
    "              },\n",
    "\n",
    "\n",
    "              getFavoriteBreakfast = function()\n",
    "              {\n",
    "                      return(get(\"favoriteBreakfast\",thisEnv))\n",
    "              },\n",
    "\n",
    "              setFavoriteBreakfast = function(value)\n",
    "              {\n",
    "                      return(assign(\"favoriteBreakfast\",value,thisEnv))\n",
    "              }\n",
    "\n",
    "        )\n",
    "\n",
    "      ## Define the value of the list within the current environment.\n",
    "      assign('this',me,envir=thisEnv)\n",
    "\n",
    "      ## Set the name for the class\n",
    "      class(me) <- append(class(me),\"NordAmericain\")\n",
    "      return(me)\n",
    "}"
   ]
  },
  {
   "cell_type": "code",
   "execution_count": 12,
   "metadata": {},
   "outputs": [
    {
     "data": {
      "text/html": [
       "'panuchitos'"
      ],
      "text/latex": [
       "'panuchitos'"
      ],
      "text/markdown": [
       "'panuchitos'"
      ],
      "text/plain": [
       "[1] \"panuchitos\""
      ]
     },
     "metadata": {},
     "output_type": "display_data"
    },
    {
     "data": {
      "text/html": [
       "'Tortita con jamon del bueno'"
      ],
      "text/latex": [
       "'Tortita con jamon del bueno'"
      ],
      "text/markdown": [
       "'Tortita con jamon del bueno'"
      ],
      "text/plain": [
       "[1] \"Tortita con jamon del bueno\""
      ]
     },
     "metadata": {},
     "output_type": "display_data"
    }
   ],
   "source": [
    "Andres <- NordAmericain(myFavorite=\"panuchitos\")\n",
    "Andres$getFavoriteBreakfast()\n",
    "Andres$setFavoriteBreakfast(\"Tortita con jamon del bueno\")\n",
    "Andres$getFavoriteBreakfast()"
   ]
  },
  {
   "cell_type": "code",
   "execution_count": 4,
   "metadata": {},
   "outputs": [],
   "source": [
    "makeCopy <- function(elObjeto)\n",
    "        {\n",
    "                print(\"Calling the base makeCopy function\")\n",
    "                UseMethod(\"makeCopy\",elObjeto)\n",
    "                print(\"Note this is not executed!\")\n",
    "        }\n",
    "\n",
    "makeCopy.default <- function(elObjeto)\n",
    "        {\n",
    "                print(\"You screwed up. I do not know how to handle this object.\")\n",
    "                return(elObjeto)\n",
    "        }\n",
    "\n",
    "\n",
    "makeCopy.NordAmericain <- function(elObjeto)\n",
    "        {\n",
    "                print(\"In makeCopy.NordAmericain and making a copy\")\n",
    "                newObject <- NordAmericain(\n",
    "                        eatsBreakfast=elObjeto$getHasBreakfast(),\n",
    "                        myFavorite=elObjeto$getFavoriteBreakfast())\n",
    "                return(newObject)\n",
    "        }"
   ]
  },
  {
   "cell_type": "code",
   "execution_count": null,
   "metadata": {},
   "outputs": [],
   "source": [
    "https://adv-r.hadley.nz/r6.html"
   ]
  }
 ],
 "metadata": {
  "kernelspec": {
   "display_name": "R",
   "language": "R",
   "name": "ir"
  },
  "language_info": {
   "codemirror_mode": "r",
   "file_extension": ".r",
   "mimetype": "text/x-r-source",
   "name": "R",
   "pygments_lexer": "r",
   "version": "3.6.1"
  }
 },
 "nbformat": 4,
 "nbformat_minor": 2
}
